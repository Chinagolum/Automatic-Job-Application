{
 "cells": [
  {
   "cell_type": "code",
   "execution_count": 30,
   "metadata": {},
   "outputs": [
    {
     "name": "stdout",
     "output_type": "stream",
     "text": [
      "?jk=11991f04e76b4ba0&fccid=c1099851e9794854&vjs=3\n",
      "?jk=11991f04e76b4ba0&fccid=c1099851e9794854&vjs=3\n",
      "?jk=11991f04e76b4ba0&fccid=c1099851e9794854&vjs=3\n",
      "?jk=11991f04e76b4ba0&fccid=c1099851e9794854&vjs=3\n",
      "?jk=11991f04e76b4ba0&fccid=c1099851e9794854&vjs=3\n",
      "?jk=11991f04e76b4ba0&fccid=c1099851e9794854&vjs=3\n",
      "?jk=11991f04e76b4ba0&fccid=c1099851e9794854&vjs=3\n",
      "?jk=11991f04e76b4ba0&fccid=c1099851e9794854&vjs=3\n",
      "?jk=11991f04e76b4ba0&fccid=c1099851e9794854&vjs=3\n",
      "?jk=11991f04e76b4ba0&fccid=c1099851e9794854&vjs=3\n",
      "\n",
      "https://www.indeed.com/viewjob?jk=11991f04e76b4ba0&fccid=c1099851e9794854&vjs=3\n",
      "https://www.indeed.com/viewjob?jk=11991f04e76b4ba0&fccid=c1099851e9794854&vjs=3\n",
      "https://www.indeed.com/viewjob?jk=11991f04e76b4ba0&fccid=c1099851e9794854&vjs=3\n",
      "https://www.indeed.com/viewjob?jk=11991f04e76b4ba0&fccid=c1099851e9794854&vjs=3\n",
      "https://www.indeed.com/viewjob?jk=11991f04e76b4ba0&fccid=c1099851e9794854&vjs=3\n",
      "https://www.indeed.com/viewjob?jk=11991f04e76b4ba0&fccid=c1099851e9794854&vjs=3\n",
      "https://www.indeed.com/viewjob?jk=11991f04e76b4ba0&fccid=c1099851e9794854&vjs=3\n",
      "https://www.indeed.com/viewjob?jk=11991f04e76b4ba0&fccid=c1099851e9794854&vjs=3\n",
      "https://www.indeed.com/viewjob?jk=11991f04e76b4ba0&fccid=c1099851e9794854&vjs=3\n",
      "https://www.indeed.com/viewjob?jk=11991f04e76b4ba0&fccid=c1099851e9794854&vjs=3\n",
      "1\n"
     ]
    }
   ],
   "source": [
    "from bs4 import BeautifulSoup as bs\n",
    "import requests\n",
    "\n",
    "theJob = \"software+engineer+intern\"\n",
    "url = \"https://www.indeed.com/jobs?q=\" + theJob + \"&l=\"\n",
    "page = requests.get(url).text\n",
    "soup = bs(page, 'lxml')\n",
    "\n",
    "table = soup.find(\"table\",{\"id\":\"resultsBody\"})\n",
    "table = table.find(\"table\",{\"id\":\"pageContent\"})\n",
    "table = table.find(\"td\",{\"id\":\"resultsCol\"})\n",
    "\n",
    "titleList = table.find_all(\"h2\",{\"class\":\"jobtitle\"})\n",
    "urlList = [];\n",
    "\n",
    "for title in titleList:\n",
    "    extension = div.find(\"a\").attrs['href']\n",
    "    extension = extension[7: ]\n",
    "    print(extension)\n",
    "    urlList.append(\"https://www.indeed.com/viewjob\" + extension )\n",
    "\n",
    "print() \n",
    "\n",
    "for ur in urlList:\n",
    "    print(ur)\n",
    "    \n",
    "print (\"1\")"
   ]
  },
  {
   "cell_type": "code",
   "execution_count": null,
   "metadata": {},
   "outputs": [],
   "source": []
  },
  {
   "cell_type": "code",
   "execution_count": null,
   "metadata": {},
   "outputs": [],
   "source": []
  },
  {
   "cell_type": "code",
   "execution_count": null,
   "metadata": {},
   "outputs": [],
   "source": []
  },
  {
   "cell_type": "code",
   "execution_count": null,
   "metadata": {},
   "outputs": [],
   "source": []
  },
  {
   "cell_type": "code",
   "execution_count": null,
   "metadata": {},
   "outputs": [],
   "source": []
  }
 ],
 "metadata": {
  "kernelspec": {
   "display_name": "Python 3",
   "language": "python",
   "name": "python3"
  },
  "language_info": {
   "codemirror_mode": {
    "name": "ipython",
    "version": 3
   },
   "file_extension": ".py",
   "mimetype": "text/x-python",
   "name": "python",
   "nbconvert_exporter": "python",
   "pygments_lexer": "ipython3",
   "version": "3.6.4"
  }
 },
 "nbformat": 4,
 "nbformat_minor": 2
}
